{
  "nbformat": 4,
  "nbformat_minor": 0,
  "metadata": {
    "colab": {
      "name": "model_cards.ipynb",
      "provenance": [],
      "collapsed_sections": []
    },
    "kernelspec": {
      "name": "python3",
      "display_name": "Python 3"
    },
    "language_info": {
      "name": "python"
    }
  },
  "cells": [
    {
      "cell_type": "markdown",
      "metadata": {
        "id": "0c-8yceOc8WP"
      },
      "source": [
        "# **Model card**"
      ]
    },
    {
      "cell_type": "markdown",
      "metadata": {
        "id": "InOGRpfCyY76"
      },
      "source": [
        "References:\n",
        "\n",
        "https://www.tensorflow.org/responsible_ai/model_card_toolkit/guide"
      ]
    },
    {
      "cell_type": "code",
      "metadata": {
        "id": "uDsUI2UFcwBz"
      },
      "source": [
        "!pip install -q --upgrade pip==20.2\n",
        "!pip install -q 'model-card-toolkit>=0.1.1,<0.2'\n",
        "!pip install -q 'tensorflow>=2.3.1'"
      ],
      "execution_count": null,
      "outputs": []
    },
    {
      "cell_type": "code",
      "metadata": {
        "id": "TtlX7P1RdVOf"
      },
      "source": [
        "import tensorflow as tf\n",
        "import numpy as np\n",
        "from model_card_toolkit import ModelCardToolkit\n",
        "from model_card_toolkit.documentation.examples import cats_vs_dogs\n",
        "from model_card_toolkit.utils.graphics import figure_to_base64str\n",
        "import tempfile\n",
        "import matplotlib.pyplot as plt\n",
        "from IPython import display\n",
        "import requests\n",
        "import os\n",
        "import zipfile"
      ],
      "execution_count": 1,
      "outputs": []
    },
    {
      "cell_type": "code",
      "metadata": {
        "id": "16z4mJNjdeU4"
      },
      "source": [
        "model_card_dir = tempfile.mkdtemp()\n",
        "mct = ModelCardToolkit(model_card_dir)\n",
        "model_card = mct.scaffold_assets()"
      ],
      "execution_count": 2,
      "outputs": []
    },
    {
      "cell_type": "code",
      "metadata": {
        "id": "AxnNrMzgdhrz"
      },
      "source": [
        "model_card.model_details.name = 'Chest X-ray view position simple classifier'\n",
        "model_card.model_details.overview = (\n",
        "    'This model distinguishes PA, AP, AP Supine and lateral views in X-rays. '\n",
        "    'It uses the AutoKeras tool, that automatically set the best model and '\n",
        "    'parameters. In this case it created a convolutional neural network. '\n",
        "    'It was trained on the `COVID-19 image data collection` '\n",
        "    '(https://github.com/ieee8023/covid-chestxray-dataset). This model '\n",
        "    'performed with medium accuracy, but the metrics weren\\'t explored too much.'\n",
        ")\n",
        "model_card.model_details.owners = [\n",
        "  {'name': 'Amanda Furtado Brinhosa', 'contact': '@amandafbri'}\n",
        "]\n",
        "model_card.model_details.version = {'name': 'v1.0', 'date': '04/04/2021'}\n",
        "model_card.model_details.references = [\n",
        "    'hhttps://github.com/ieee8023/covid-chestxray-dataset',\n",
        "    'https://autokeras.com/image_classifier/',\n",
        "]\n",
        "model_card.model_details.citation = 'https://github.com/amandafbri/xray-view-position-classifier'"
      ],
      "execution_count": 3,
      "outputs": []
    },
    {
      "cell_type": "code",
      "metadata": {
        "id": "Npu8NCKlgad2"
      },
      "source": [
        "model_card.quantitative_analysis.performance_metrics = [\n",
        "  {'type': 'Validation accuracy', 'value': 0.7558},\n",
        "  {'type': 'Validation AUC', 'value': 0.8957},\n",
        "]"
      ],
      "execution_count": 6,
      "outputs": []
    },
    {
      "cell_type": "code",
      "metadata": {
        "id": "3OJufqf7gcij"
      },
      "source": [
        "model_card.considerations.use_cases = [\n",
        "    'This model classifies X-ray images with different positions (PA, AP, AP Supine and Lateral).'\n",
        "]\n",
        "model_card.considerations.limitations = [\n",
        "    'This model is not able to classify X-rays images of other classes.'\n",
        "]\n",
        "model_card.considerations.ethical_considerations = [{\n",
        "    'name':\n",
        "        'This model cannot be used in real applications, since it does not '\n",
        "        'consider all types of views and does not have high metrics. The '\n",
        "        'model is for studying AI purposes, not medical.',\n",
        "    'mitigation_strategy':\n",
        "        'Avoid application on real applications.'\n",
        "}]"
      ],
      "execution_count": 9,
      "outputs": []
    },
    {
      "cell_type": "code",
      "metadata": {
        "colab": {
          "base_uri": "https://localhost:8080/",
          "height": 295
        },
        "id": "5RwC-TnTgkUd",
        "outputId": "27803c61-8ed1-4657-86e0-272cf1602e70"
      },
      "source": [
        "fig, ax = plt.subplots()\n",
        "width = 0.75\n",
        "rects0 = ax.bar(0, 344, width, label='PA')\n",
        "rects1 = ax.bar(1, 234, label='AP Supine')\n",
        "rects2 = ax.bar(2, 203, width, label='AP')\n",
        "rects3 = ax.bar(3, 84, width, label='L')\n",
        "rects4 = ax.bar(4, 1, width, label='AP Erect')\n",
        "ax.set_xticks(np.arange(5))\n",
        "ax.set_xticklabels(['PA', 'AP Supine', 'AP', 'L', 'AP Erect'])\n",
        "ax.set_ylabel('Count')\n",
        "ax.set_xlabel('Classes')\n",
        "ax.set_title('Dataset original classes distribution')\n",
        "original_dataset = figure_to_base64str(fig)"
      ],
      "execution_count": 15,
      "outputs": [
        {
          "output_type": "display_data",
          "data": {
            "image/png": "[encoded data removed]",
            "text/plain": [
              "<Figure size 432x288 with 1 Axes>"
            ]
          },
          "metadata": {
            "tags": [],
            "needs_background": "light"
          }
        }
      ]
    },
    {
      "cell_type": "code",
      "metadata": {
        "colab": {
          "base_uri": "https://localhost:8080/",
          "height": 295
        },
        "id": "o1fhj2W6jgK4",
        "outputId": "b84ce59c-1b01-4820-ece6-96f298c29add"
      },
      "source": [
        "# Train, val, test\n",
        "# Found 692 files belonging to 4 classes.\n",
        "# Found 86 files belonging to 4 classes.\n",
        "# Found 87 files belonging to 4 classes.\n",
        "\n",
        "fig, ax = plt.subplots()\n",
        "width = 0.75\n",
        "rects0 = ax.bar(0, 692, width, label='Train')\n",
        "rects1 = ax.bar(1, 86, label='Validation')\n",
        "rects2 = ax.bar(2, 87, width, label='Test')\n",
        "ax.set_xticks(np.arange(3))\n",
        "ax.set_xticklabels(['Train', 'Validation', 'Test'])\n",
        "ax.set_ylabel('Count')\n",
        "ax.set_xlabel('Set')\n",
        "ax.set_title('Dataset split')\n",
        "dataset_split = figure_to_base64str(fig)"
      ],
      "execution_count": 41,
      "outputs": [
        {
          "output_type": "display_data",
          "data": {
            "image/png": "[encoded data removed]",
            "text/plain": [
              "<Figure size 432x288 with 1 Axes>"
            ]
          },
          "metadata": {
            "tags": [],
            "needs_background": "light"
          }
        }
      ]
    },
    {
      "cell_type": "code",
      "metadata": {
        "id": "kDcPOg4IgmmZ"
      },
      "source": [
        "model_card.quantitative_analysis.graphics.collection = [\n",
        "  {'name': 'Dataset original classes distribution', 'image': original_dataset},\n",
        "  {'name': 'Dataset split', 'image': dataset_split},\n",
        "]\n",
        "model_card.quantitative_analysis.graphics.description = 'The graphics show the original distribution from the dataset used and the splitted version after filtering it.'\n",
        "\n"
      ],
      "execution_count": 42,
      "outputs": []
    },
    {
      "cell_type": "code",
      "metadata": {
        "id": "WieYBtKqgpdf"
      },
      "source": [
        "mct.update_model_card_json(model_card)"
      ],
      "execution_count": 43,
      "outputs": []
    },
    {
      "cell_type": "code",
      "metadata": {
        "colab": {
          "base_uri": "https://localhost:8080/",
          "height": 1000
        },
        "id": "QJi-1F42grtt",
        "outputId": "9b177602-57de-48b8-f846-d0fe1bc8626d"
      },
      "source": [
        "# Generate a model card document in HTML (default)\n",
        "html_doc = mct.export_format()\n",
        "\n",
        "# Display the model card document in HTML\n",
        "display.display(display.HTML(html_doc))"
      ],
      "execution_count": 44,
      "outputs": [
        {
          "output_type": "display_data",
          "data": {
            "text/html": [
              "<!DOCTYPE html>\n",
              "\n",
              "\n",
              "\n",
              "\n",
              "\n",
              "\n",
              "\n",
              "<html lang=\"en\">\n",
              "<head>\n",
              "<style>\n",
              "  h1 {text-align: center;}\n",
              "  .row {\n",
              "    display: flex;\n",
              "  }\n",
              "  .col {\n",
              "    flex: 1;\n",
              "  }\n",
              "  .card {\n",
              "    padding: 1em;\n",
              "    border: 1px solid #DADCE0;\n",
              "    margin: 10px;\n",
              "  }\n",
              "  .img-container {\n",
              "    display: flex;\n",
              "    flex-wrap: wrap;\n",
              "    justify-content: space-around;\n",
              "    text-align: center;\n",
              "  }\n",
              "  .img-item {\n",
              "    flex: 1;\n",
              "  }\n",
              "  table, th, td { border: 1px solid black; }\n",
              "  th, td { border: 1px solid #CCC; height: 30px; }\n",
              "  caption { font-weight: bold; }\n",
              "</style>\n",
              "<title>\n",
              "  Model Card for Chest X-ray view position simple classifier\n",
              "</title>\n",
              "</head>\n",
              "<body>\n",
              "  <h1>\n",
              "    Model Card for Chest X-ray view position simple classifier\n",
              "  </h1>\n",
              "    <div class=\"row\">\n",
              "      <div class=\"col card\">\n",
              "        <h2>Model Details</h2>\n",
              "          <h3>Overview</h3>\n",
              "              This model distinguishes PA, AP, AP Supine and lateral views in X-rays. It uses the AutoKeras tool, that automatically set the best model and parameters. In this case it created a convolutional neural network. It was trained on the `COVID-19 image data collection` (https://github.com/ieee8023/covid-chestxray-dataset). This model performed with medium accuracy, but the metrics weren&#39;t explored too much.\n",
              "          <h3>Version</h3>\n",
              "              \n",
              "  \n",
              "    <div>name: v1.0</div>\n",
              "\n",
              "              \n",
              "  \n",
              "    <div>date: 04/04/2021</div>\n",
              "\n",
              "              \n",
              "  \n",
              "\n",
              "          \n",
              "          <h3>Owners</h3>\n",
              "              <ul>\n",
              "                <li>Amanda Furtado Brinhosa, @amandafbri</li>\n",
              "              </ul>\n",
              "          \n",
              "          \n",
              "            <h3>References</h3>\n",
              "              \n",
              "  \n",
              "  <ul>\n",
              "  \n",
              "    <li><a href=\"hhttps://github.com/ieee8023/covid-chestxray-dataset\">hhttps://github.com/ieee8023/covid-chestxray-dataset</a></li>\n",
              "  \n",
              "    <li><a href=\"https://autokeras.com/image_classifier/\">https://autokeras.com/image_classifier/</a></li>\n",
              "  \n",
              "  </ul>\n",
              "\n",
              "          \n",
              "            <h3>Citation</h3>\n",
              "              https://github.com/amandafbri/xray-view-position-classifier\n",
              "          \n",
              "          \n",
              "          \n",
              "      </div>\n",
              "      \n",
              "      <div class=\"col card\">\n",
              "        <h2>Considerations</h2>\n",
              "          \n",
              "          \n",
              "            <h3>Use Cases</h3>\n",
              "              \n",
              "  \n",
              "  <ul>\n",
              "  \n",
              "    <li>This model classifies X-ray images with different positions (PA, AP, AP Supine and Lateral).</li>\n",
              "  \n",
              "  </ul>\n",
              "\n",
              "          \n",
              "          \n",
              "            <h3>Limitations</h3>\n",
              "              \n",
              "  \n",
              "  <ul>\n",
              "  \n",
              "    <li>This model is not able to classify X-rays images of other classes.</li>\n",
              "  \n",
              "  </ul>\n",
              "\n",
              "          \n",
              "          \n",
              "          \n",
              "            <h3>Ethical Considerations</h3>\n",
              "              <ul>\n",
              "                <li>\n",
              "                  <div>Risk: This model cannot be used in real applications, since it does not consider all types of views and does not have high metrics. The model is for studying AI purposes, not medical.</div>\n",
              "                  <div>Mitigation Strategy: Avoid application on real applications.</div>\n",
              "                </li> </ul>\n",
              "      </div>\n",
              "      \n",
              "    </div>\n",
              "    \n",
              "    \n",
              "    \n",
              "      <div class=\"row\">\n",
              "        <div class=\"col card\">\n",
              "          <h2>Quantitative Analysis</h2>\n",
              "            \n",
              "              The graphics show the original distribution from the dataset used and the splitted version after filtering it.\n",
              "              \n",
              "  <div class=\"img-container\">\n",
              "  \n",
              "    <div class=\"img-item\">\n",
              "      <img src='data:image/jpeg;base64,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' alt='Dataset original classes distribution' />\n",
              "    </div>\n",
              "  \n",
              "    <div class=\"img-item\">\n",
              "      <img src='data:image/jpeg;base64,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' alt='Dataset split' />\n",
              "    </div>\n",
              "  \n",
              "  </div>\n",
              "\n",
              "            \n",
              "              \n",
              "<table>\n",
              "  <caption>Performance Metrics</caption>\n",
              "  <tr><th>Name</th><th>Value</th></tr>\n",
              "\n",
              "  <tr><td>\n",
              "Validation accuracy\n",
              "</td><td>\n",
              "0.7558\n",
              "</td></tr>\n",
              "\n",
              "  <tr><td>\n",
              "Validation AUC\n",
              "</td><td>\n",
              "0.8957\n",
              "</td></tr>\n",
              "\n",
              "</table>\n",
              "\n",
              "            \n",
              "        </div>\n",
              "      </div>\n",
              "    \n",
              "</body>\n",
              "</html>"
            ],
            "text/plain": [
              "<IPython.core.display.HTML object>"
            ]
          },
          "metadata": {
            "tags": []
          }
        }
      ]
    }
  ]
}